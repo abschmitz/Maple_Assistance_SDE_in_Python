{
 "cells": [
  {
   "cell_type": "code",
   "execution_count": 14,
   "id": "b11c6145-dc78-4197-9b29-c4955bbadfe8",
   "metadata": {
    "editable": true,
    "slideshow": {
     "slide_type": ""
    },
    "tags": []
   },
   "outputs": [
    {
     "data": {
      "text/plain": [
       "{'1': 259371, '2': 150096, '3': 149826, '4': 150323, '5': 150089, '6': 140295}"
      ]
     },
     "execution_count": 14,
     "metadata": {},
     "output_type": "execute_result"
    }
   ],
   "source": [
    "import random\n",
    "\n",
    "N = 1000000\n",
    "\n",
    "results = {'1': 0, '2': 0, '3': 0, '4': 0, '5': 0, '6': 0}\n",
    "for i in range(N):\n",
    "    x = random.uniform(0,1)\n",
    "    if x < 0.26:\n",
    "        results['1'] += 1\n",
    "    elif x < 0.41:\n",
    "        results['2'] += 1\n",
    "    elif x < 0.56:\n",
    "        results['3'] += 1\n",
    "    elif x < 0.71:\n",
    "        results['4'] += 1\n",
    "    elif x < 0.86:\n",
    "        results['5'] += 1\n",
    "    else:\n",
    "        results['6'] += 1\n",
    "\n",
    "results"
   ]
  }
 ],
 "metadata": {
  "kernelspec": {
   "display_name": "anaconda-panel-2023.05-py310",
   "language": "python",
   "name": "conda-env-anaconda-panel-2023.05-py310-py"
  },
  "language_info": {
   "codemirror_mode": {
    "name": "ipython",
    "version": 3
   },
   "file_extension": ".py",
   "mimetype": "text/x-python",
   "name": "python",
   "nbconvert_exporter": "python",
   "pygments_lexer": "ipython3",
   "version": "3.11.5"
  }
 },
 "nbformat": 4,
 "nbformat_minor": 5
}

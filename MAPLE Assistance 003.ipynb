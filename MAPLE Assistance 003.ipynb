{
 "cells": [
  {
   "cell_type": "code",
   "execution_count": 19,
   "id": "b11c6145-dc78-4197-9b29-c4955bbadfe8",
   "metadata": {
    "editable": true,
    "slideshow": {
     "slide_type": ""
    },
    "tags": []
   },
   "outputs": [
    {
     "name": "stdout",
     "output_type": "stream",
     "text": [
      "160119 20155 0.126\n",
      "0.0008751304\n"
     ]
    }
   ],
   "source": [
    "import random\n",
    "\n",
    "A = (6, 7, 8)\n",
    "B = (2, 12)\n",
    "\n",
    "N = 360000\n",
    "totalA = 0\n",
    "totalB = 0\n",
    "for i in range(N):\n",
    "    die1 = random.randint(1,6)\n",
    "    die2 = random.randint(1,6)\n",
    "    if die1 + die2 in A:\n",
    "        totalA += 1\n",
    "    elif die1 + die2 in B:\n",
    "        totalB += 1\n",
    "\n",
    "print(totalA,totalB,round(totalB/totalA,3))\n",
    "print(round(totalB/totalA - 1/8, 10))"
   ]
  },
  {
   "cell_type": "code",
   "execution_count": null,
   "id": "2c155394-9eb0-4a78-a261-33aaca7e1636",
   "metadata": {},
   "outputs": [],
   "source": []
  }
 ],
 "metadata": {
  "kernelspec": {
   "display_name": "anaconda-panel-2023.05-py310",
   "language": "python",
   "name": "conda-env-anaconda-panel-2023.05-py310-py"
  },
  "language_info": {
   "codemirror_mode": {
    "name": "ipython",
    "version": 3
   },
   "file_extension": ".py",
   "mimetype": "text/x-python",
   "name": "python",
   "nbconvert_exporter": "python",
   "pygments_lexer": "ipython3",
   "version": "3.11.5"
  }
 },
 "nbformat": 4,
 "nbformat_minor": 5
}

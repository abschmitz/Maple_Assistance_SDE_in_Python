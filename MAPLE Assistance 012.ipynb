{
 "cells": [
  {
   "cell_type": "code",
   "execution_count": 57,
   "id": "54fa9387-4dbd-4e1a-8fa9-0381dc58052c",
   "metadata": {},
   "outputs": [
    {
     "data": {
      "text/plain": [
       "0.8498433333333333"
      ]
     },
     "execution_count": 57,
     "metadata": {},
     "output_type": "execute_result"
    }
   ],
   "source": [
    "import random\n",
    "\n",
    "def side_effect():\n",
    "    if random.random() < 0.1:\n",
    "        return 1\n",
    "    else:\n",
    "        return 0\n",
    "\n",
    "def approval(side):\n",
    "    if side:\n",
    "        if random.random() < 0.4:\n",
    "            return 1\n",
    "    else:\n",
    "        if random.random() < 0.9:\n",
    "            return 1\n",
    "    return 0\n",
    "    \n",
    "N = 1500000\n",
    "num_approval = 0\n",
    "\n",
    "for i in range(N):\n",
    "    num_approval += approval(side_effect())\n",
    "\n",
    "num_approval / N"
   ]
  },
  {
   "cell_type": "code",
   "execution_count": null,
   "id": "04c86cdc-3e02-486b-b558-1aa7bf688cd1",
   "metadata": {},
   "outputs": [],
   "source": []
  }
 ],
 "metadata": {
  "kernelspec": {
   "display_name": "anaconda-panel-2023.05-py310",
   "language": "python",
   "name": "conda-env-anaconda-panel-2023.05-py310-py"
  },
  "language_info": {
   "codemirror_mode": {
    "name": "ipython",
    "version": 3
   },
   "file_extension": ".py",
   "mimetype": "text/x-python",
   "name": "python",
   "nbconvert_exporter": "python",
   "pygments_lexer": "ipython3",
   "version": "3.11.5"
  }
 },
 "nbformat": 4,
 "nbformat_minor": 5
}

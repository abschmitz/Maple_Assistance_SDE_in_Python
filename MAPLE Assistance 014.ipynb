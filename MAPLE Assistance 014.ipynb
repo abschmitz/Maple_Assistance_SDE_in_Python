{
 "cells": [
  {
   "cell_type": "code",
   "execution_count": 20,
   "id": "54fa9387-4dbd-4e1a-8fa9-0381dc58052c",
   "metadata": {},
   "outputs": [
    {
     "data": {
      "text/plain": [
       "[0, 0, 1, 0, 0, 0, 0, 1, 0, 0]"
      ]
     },
     "execution_count": 20,
     "metadata": {},
     "output_type": "execute_result"
    }
   ],
   "source": [
    "import random\n",
    "\n",
    "N = 10\n",
    "\n",
    "def success(num, prob_success):\n",
    "    if num < prob_success:\n",
    "        return 1\n",
    "    else:\n",
    "        return 0\n",
    "\n",
    "[success(random.random(),0.2)\n",
    " for i in range(N)]\n"
   ]
  },
  {
   "cell_type": "code",
   "execution_count": 22,
   "id": "04c86cdc-3e02-486b-b558-1aa7bf688cd1",
   "metadata": {},
   "outputs": [
    {
     "data": {
      "text/plain": [
       "0.19991"
      ]
     },
     "execution_count": 22,
     "metadata": {},
     "output_type": "execute_result"
    }
   ],
   "source": [
    "N = 100000\n",
    "\n",
    "successes = sum([success(random.random(), 0.2)\n",
    "                 for i in range(N)])\n",
    "\n",
    "successes / N"
   ]
  },
  {
   "cell_type": "code",
   "execution_count": null,
   "id": "31c7644e-cacb-4e9a-8431-c591d0852940",
   "metadata": {},
   "outputs": [],
   "source": []
  }
 ],
 "metadata": {
  "kernelspec": {
   "display_name": "anaconda-panel-2023.05-py310",
   "language": "python",
   "name": "conda-env-anaconda-panel-2023.05-py310-py"
  },
  "language_info": {
   "codemirror_mode": {
    "name": "ipython",
    "version": 3
   },
   "file_extension": ".py",
   "mimetype": "text/x-python",
   "name": "python",
   "nbconvert_exporter": "python",
   "pygments_lexer": "ipython3",
   "version": "3.11.5"
  }
 },
 "nbformat": 4,
 "nbformat_minor": 5
}

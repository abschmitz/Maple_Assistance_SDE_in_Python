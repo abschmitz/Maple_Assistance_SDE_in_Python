{
 "cells": [
  {
   "cell_type": "code",
   "execution_count": 45,
   "id": "6b401c71-48c1-425b-a362-96740a0a1c4a",
   "metadata": {},
   "outputs": [
    {
     "name": "stdout",
     "output_type": "stream",
     "text": [
      "[('r', 'w', 'w', 'w', 'w', 'g'), ('w', 'g', 'g', 'r', 'w', 'w'), ('r', 'w', 'r', 'w', 'g', 'r'), ('w', 'w', 'g', 'r', 'w', 'w'), ('w', 'g', 'w', 'r', 'r', 'g'), ('r', 'g', 'r', 'w', 'w', 'g')]\n"
     ]
    }
   ],
   "source": [
    "# M 1.1\n",
    "\n",
    "import random\n",
    "\n",
    "choose = 6\n",
    "balls = ['w','w','w','w','w','r','r','r','g','g']\n",
    "\n",
    "print(random.sample(comb,k=6))"
   ]
  },
  {
   "cell_type": "code",
   "execution_count": 83,
   "id": "b39ac3f5-5891-4e21-b282-da6ae8938b5c",
   "metadata": {},
   "outputs": [
    {
     "name": "stdout",
     "output_type": "stream",
     "text": [
      "Probability of exactly three white balls: 0.4747\n",
      "Probability of exactly three white balls and two red balls: 0.2838\n"
     ]
    }
   ],
   "source": [
    "# M 1.2\n",
    "\n",
    "three_white = 0\n",
    "two_red = 0\n",
    "N = 10000\n",
    "balls = 'wwwwwrrrgg'\n",
    "\n",
    "for i in range(N):\n",
    "    sample = random.sample(balls,6)\n",
    "    white = sample.count('w')\n",
    "    red = sample.count('r')\n",
    "    if white == 3:\n",
    "        three_white += 1\n",
    "        if red == 2:\n",
    "            two_red += 1\n",
    "\n",
    "print(f'Probability of exactly three white balls: {three_white/N}')\n",
    "print(f'Probability of exactly three white balls and two red balls: {two_red/N}')"
   ]
  },
  {
   "cell_type": "code",
   "execution_count": 87,
   "id": "f3f2073a-8f3f-4fc6-9d59-bafc995fc0ff",
   "metadata": {},
   "outputs": [
    {
     "name": "stdout",
     "output_type": "stream",
     "text": [
      "Probability of exactly three white balls: 0.3062\n",
      "Probability of exactly three white balls and two red balls: 0.1285\n"
     ]
    }
   ],
   "source": [
    "# M 1.3\n",
    "\n",
    "three_white = 0\n",
    "two_red = 0\n",
    "N = 10000\n",
    "balls = 'wwwwwrrrgg'\n",
    "\n",
    "for i in range(N):\n",
    "    sample = random.choices(balls,k=6)\n",
    "    white = sample.count('w')\n",
    "    red = sample.count('r')\n",
    "    if white == 3:\n",
    "        three_white += 1\n",
    "        if red == 2:\n",
    "            two_red += 1\n",
    "\n",
    "print(f'Probability of exactly three white balls: {three_white/N}')\n",
    "print(f'Probability of exactly three white balls and two red balls: {two_red/N}')"
   ]
  },
  {
   "cell_type": "code",
   "execution_count": 97,
   "id": "3a6104d0-f043-4107-a30e-fb6b804a0024",
   "metadata": {},
   "outputs": [
    {
     "name": "stdout",
     "output_type": "stream",
     "text": [
      "Probability of success: 0.01614\n"
     ]
    }
   ],
   "source": [
    "# M 1.4\n",
    "num_white = 6\n",
    "num_red = 0\n",
    "num_green = 0\n",
    "success = 0\n",
    "\n",
    "N = 100000\n",
    "balls = 'wwwwwrrrgg'\n",
    "\n",
    "for i in range(N):\n",
    "    sample = random.choices(balls,k=6)\n",
    "    white = sample.count('w')\n",
    "    red = sample.count('r')\n",
    "    green = sample.count('g')\n",
    "    if white == num_white:\n",
    "        if red == num_red:\n",
    "            if green == num_green:\n",
    "                success += 1\n",
    "\n",
    "print(f'Probability of success: {success/N}')"
   ]
  },
  {
   "cell_type": "code",
   "execution_count": 129,
   "id": "2b292335-6ce7-4678-b641-3691d17167f6",
   "metadata": {},
   "outputs": [
    {
     "name": "stdout",
     "output_type": "stream",
     "text": [
      "['HHHH', 'HHHT', 'HHTH', 'HHTT', 'HTHH', 'HTHT', 'HTTH', 'HTTT', 'THHH', 'THHT', 'THTH', 'THTT', 'TTHH', 'TTHT', 'TTTH', 'TTTT']\n",
      "['HHHH', 'HTTH', 'HHHH']\n"
     ]
    }
   ],
   "source": [
    "# M 1.5\n",
    "\n",
    "coin = ['H','T']\n",
    "flips = []\n",
    "\n",
    "flips = [a + b + c + d\n",
    "         for a in coin\n",
    "         for b in coin\n",
    "         for c in coin\n",
    "         for d in coin]\n",
    "\n",
    "print(flips)\n",
    "\n",
    "print(random.choices(flips, k=3))"
   ]
  }
 ],
 "metadata": {
  "kernelspec": {
   "display_name": "anaconda-panel-2023.05-py310",
   "language": "python",
   "name": "conda-env-anaconda-panel-2023.05-py310-py"
  },
  "language_info": {
   "codemirror_mode": {
    "name": "ipython",
    "version": 3
   },
   "file_extension": ".py",
   "mimetype": "text/x-python",
   "name": "python",
   "nbconvert_exporter": "python",
   "pygments_lexer": "ipython3",
   "version": "3.11.5"
  }
 },
 "nbformat": 4,
 "nbformat_minor": 5
}

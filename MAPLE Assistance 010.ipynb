{
 "cells": [
  {
   "cell_type": "code",
   "execution_count": 46,
   "id": "54fa9387-4dbd-4e1a-8fa9-0381dc58052c",
   "metadata": {},
   "outputs": [
    {
     "name": "stdout",
     "output_type": "stream",
     "text": [
      "2 2 4 6 \n",
      "\n",
      "6 \n",
      "\n",
      "3 6 \n",
      "\n",
      "1 5 2 3 2 3 6 \n",
      "\n",
      "4 6 \n",
      "\n",
      "5 2 6 \n",
      "\n",
      "3 5 5 6 \n",
      "\n",
      "3 1 6 \n",
      "\n",
      "5 5 2 5 4 4 1 6 \n",
      "\n",
      "2 6 \n",
      "\n"
     ]
    }
   ],
   "source": [
    "import random\n",
    "\n",
    "N = 10\n",
    "\n",
    "for i in range(N):\n",
    "    toss = 0\n",
    "    while toss != 6:\n",
    "        toss = random.choices([1, 2, 3, 4, 5, 6], k = 1)[0]\n",
    "        print(toss, end=' ')\n",
    "    print('\\n')"
   ]
  },
  {
   "cell_type": "code",
   "execution_count": null,
   "id": "31ca62b3-fe4a-488b-9a2d-ae2a9946a0e4",
   "metadata": {},
   "outputs": [],
   "source": []
  }
 ],
 "metadata": {
  "kernelspec": {
   "display_name": "anaconda-panel-2023.05-py310",
   "language": "python",
   "name": "conda-env-anaconda-panel-2023.05-py310-py"
  },
  "language_info": {
   "codemirror_mode": {
    "name": "ipython",
    "version": 3
   },
   "file_extension": ".py",
   "mimetype": "text/x-python",
   "name": "python",
   "nbconvert_exporter": "python",
   "pygments_lexer": "ipython3",
   "version": "3.11.5"
  }
 },
 "nbformat": 4,
 "nbformat_minor": 5
}

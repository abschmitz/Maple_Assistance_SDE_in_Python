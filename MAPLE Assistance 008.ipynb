{
 "cells": [
  {
   "cell_type": "code",
   "execution_count": 28,
   "id": "54fa9387-4dbd-4e1a-8fa9-0381dc58052c",
   "metadata": {},
   "outputs": [
    {
     "name": "stdout",
     "output_type": "stream",
     "text": [
      "1.0\n"
     ]
    }
   ],
   "source": [
    "from random import randint\n",
    "\n",
    "group_size = 100\n",
    "N = 100000\n",
    "\n",
    "total = 0\n",
    "for i in range(N):\n",
    "    birthdays = [randint(1,365) for x in range(group_size)]\n",
    "    if len(set(birthdays)) < group_size:\n",
    "        total += 1\n",
    "\n",
    "print(total/N)"
   ]
  },
  {
   "cell_type": "code",
   "execution_count": null,
   "id": "88c9049b-de08-4343-ae30-b87550fc7edb",
   "metadata": {},
   "outputs": [],
   "source": []
  }
 ],
 "metadata": {
  "kernelspec": {
   "display_name": "anaconda-panel-2023.05-py310",
   "language": "python",
   "name": "conda-env-anaconda-panel-2023.05-py310-py"
  },
  "language_info": {
   "codemirror_mode": {
    "name": "ipython",
    "version": 3
   },
   "file_extension": ".py",
   "mimetype": "text/x-python",
   "name": "python",
   "nbconvert_exporter": "python",
   "pygments_lexer": "ipython3",
   "version": "3.11.5"
  }
 },
 "nbformat": 4,
 "nbformat_minor": 5
}

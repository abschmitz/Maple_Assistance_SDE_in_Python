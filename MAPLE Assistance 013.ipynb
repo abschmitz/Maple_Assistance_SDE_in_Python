{
 "cells": [
  {
   "cell_type": "code",
   "execution_count": 9,
   "id": "54fa9387-4dbd-4e1a-8fa9-0381dc58052c",
   "metadata": {},
   "outputs": [
    {
     "data": {
      "text/plain": [
       "0.9313271784377107"
      ]
     },
     "execution_count": 9,
     "metadata": {},
     "output_type": "execute_result"
    }
   ],
   "source": [
    "import random\n",
    "\n",
    "num_failed = 0\n",
    "num_failed_written = 0\n",
    "N = 100000\n",
    "\n",
    "for i in range(N):\n",
    "    if random.random() < 0.4:\n",
    "        num_failed += 1\n",
    "        num_failed_written += 1\n",
    "        continue\n",
    "    else:\n",
    "        if random.random() < 0.05:\n",
    "            num_failed += 1\n",
    "\n",
    "num_failed_written / num_failed"
   ]
  },
  {
   "cell_type": "code",
   "execution_count": null,
   "id": "04c86cdc-3e02-486b-b558-1aa7bf688cd1",
   "metadata": {},
   "outputs": [],
   "source": []
  }
 ],
 "metadata": {
  "kernelspec": {
   "display_name": "anaconda-panel-2023.05-py310",
   "language": "python",
   "name": "conda-env-anaconda-panel-2023.05-py310-py"
  },
  "language_info": {
   "codemirror_mode": {
    "name": "ipython",
    "version": 3
   },
   "file_extension": ".py",
   "mimetype": "text/x-python",
   "name": "python",
   "nbconvert_exporter": "python",
   "pygments_lexer": "ipython3",
   "version": "3.11.5"
  }
 },
 "nbformat": 4,
 "nbformat_minor": 5
}

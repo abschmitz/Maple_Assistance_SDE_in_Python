{
 "cells": [
  {
   "cell_type": "code",
   "execution_count": 6,
   "id": "54fa9387-4dbd-4e1a-8fa9-0381dc58052c",
   "metadata": {},
   "outputs": [
    {
     "name": "stdout",
     "output_type": "stream",
     "text": [
      "5: 0.9728644263002064, 0.02713557369979358\n",
      "10: 0.8830518222889224, 0.11694817771107757\n",
      "20: 0.58856161641942, 0.41143838358058005\n",
      "50: 0.0296264204220116, 0.9703735795779884\n",
      "100: 3.072489278515773e-07, 0.9999996927510721\n"
     ]
    }
   ],
   "source": [
    "from math import factorial as fact\n",
    "from math import gamma\n",
    "\n",
    "def choose(n, r):\n",
    "    return fact(n)/(fact(r)*fact(n-r))\n",
    "\n",
    "k = [5, 10, 20, 50, 100]\n",
    "\n",
    "for i in k:\n",
    "    prob = choose(365,i)*i*gamma(i)/365**i\n",
    "    print(f'{i}: {prob}, {1-prob}')"
   ]
  },
  {
   "cell_type": "code",
   "execution_count": null,
   "id": "88c9049b-de08-4343-ae30-b87550fc7edb",
   "metadata": {},
   "outputs": [],
   "source": []
  }
 ],
 "metadata": {
  "kernelspec": {
   "display_name": "anaconda-panel-2023.05-py310",
   "language": "python",
   "name": "conda-env-anaconda-panel-2023.05-py310-py"
  },
  "language_info": {
   "codemirror_mode": {
    "name": "ipython",
    "version": 3
   },
   "file_extension": ".py",
   "mimetype": "text/x-python",
   "name": "python",
   "nbconvert_exporter": "python",
   "pygments_lexer": "ipython3",
   "version": "3.11.5"
  }
 },
 "nbformat": 4,
 "nbformat_minor": 5
}

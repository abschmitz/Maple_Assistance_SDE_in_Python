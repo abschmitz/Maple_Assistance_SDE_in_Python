{
 "cells": [
  {
   "cell_type": "code",
   "execution_count": 15,
   "id": "a571d372-a75c-4bc2-a39b-96dee26166d2",
   "metadata": {},
   "outputs": [
    {
     "data": {
      "text/plain": [
       "0.41143838358058005"
      ]
     },
     "execution_count": 15,
     "metadata": {},
     "output_type": "execute_result"
    }
   ],
   "source": [
    "from math import factorial as fact\n",
    "\n",
    "def choose(n, r):\n",
    "    return fact(n)/(fact(r)*fact(n-r))\n",
    "\n",
    "# choose(3,2)\n",
    "\n",
    "1-fact(20)*choose(365,20)/365**20"
   ]
  },
  {
   "cell_type": "code",
   "execution_count": null,
   "id": "54fa9387-4dbd-4e1a-8fa9-0381dc58052c",
   "metadata": {},
   "outputs": [],
   "source": []
  }
 ],
 "metadata": {
  "kernelspec": {
   "display_name": "anaconda-panel-2023.05-py310",
   "language": "python",
   "name": "conda-env-anaconda-panel-2023.05-py310-py"
  },
  "language_info": {
   "codemirror_mode": {
    "name": "ipython",
    "version": 3
   },
   "file_extension": ".py",
   "mimetype": "text/x-python",
   "name": "python",
   "nbconvert_exporter": "python",
   "pygments_lexer": "ipython3",
   "version": "3.11.5"
  }
 },
 "nbformat": 4,
 "nbformat_minor": 5
}

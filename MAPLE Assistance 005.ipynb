{
 "cells": [
  {
   "cell_type": "code",
   "execution_count": 26,
   "id": "4d7a17f8-d15e-4b73-81de-97846126f3fc",
   "metadata": {},
   "outputs": [
    {
     "data": {
      "text/plain": [
       "0.16808931124379783"
      ]
     },
     "execution_count": 26,
     "metadata": {},
     "output_type": "execute_result"
    }
   ],
   "source": [
    "from math import factorial as fact\n",
    "\n",
    "def combinations(r,n):\n",
    "    return fact(r)/(fact(n)*fact(r-n))\n",
    "                    \n",
    "total_balls = 49\n",
    "marked_balls = 7\n",
    "chosen_balls = 6\n",
    "our_chosen_balls = 2\n",
    "remaining_chosen = chosen_balls - our_chosen_balls\n",
    "\n",
    "combinations(marked_balls,our_chosen_balls) * combinations(total_balls - marked_balls, chosen_balls - our_chosen_balls) / combinations(total_balls, chosen_balls)"
   ]
  },
  {
   "cell_type": "code",
   "execution_count": null,
   "id": "b8d87bdc-7a43-41fd-87a8-78a81ef920b5",
   "metadata": {},
   "outputs": [],
   "source": []
  }
 ],
 "metadata": {
  "kernelspec": {
   "display_name": "anaconda-panel-2023.05-py310",
   "language": "python",
   "name": "conda-env-anaconda-panel-2023.05-py310-py"
  },
  "language_info": {
   "codemirror_mode": {
    "name": "ipython",
    "version": 3
   },
   "file_extension": ".py",
   "mimetype": "text/x-python",
   "name": "python",
   "nbconvert_exporter": "python",
   "pygments_lexer": "ipython3",
   "version": "3.11.5"
  }
 },
 "nbformat": 4,
 "nbformat_minor": 5
}

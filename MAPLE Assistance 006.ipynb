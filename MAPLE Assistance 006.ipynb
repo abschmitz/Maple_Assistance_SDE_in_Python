{
 "cells": [
  {
   "cell_type": "code",
   "execution_count": 43,
   "id": "4d7a17f8-d15e-4b73-81de-97846126f3fc",
   "metadata": {},
   "outputs": [
    {
     "name": "stdout",
     "output_type": "stream",
     "text": [
      "\n",
      "Empircal probability: 16.8%\n",
      "Theoretical probablity: 16.8%\n"
     ]
    }
   ],
   "source": [
    "import random\n",
    "\n",
    "ours = [7, 23, 24, 28, 29, 36, 41]\n",
    "\n",
    "# test = [1,2,3,4,5,7]\n",
    "\n",
    "N = 20000\n",
    "n = 100\n",
    "count_list = []\n",
    "\n",
    "for experiments in range(N):\n",
    "    count = 0\n",
    "    for trials in range(n):\n",
    "        hits = 0\n",
    "        \n",
    "        winning = random.sample(range(1,50),6)\n",
    "        \n",
    "        for num in ours:\n",
    "            if num in winning:\n",
    "                hits += 1\n",
    "\n",
    "        if hits == 2:\n",
    "            count += 1\n",
    "    \n",
    "    # print(count, end=' ')\n",
    "    count_list.append(count)\n",
    "\n",
    "print(f'\\nEmpircal probability: {round(sum(count_list)/(N*n)*100,1)}%\\nTheoretical probablity: 16.8%')"
   ]
  },
  {
   "cell_type": "code",
   "execution_count": null,
   "id": "a571d372-a75c-4bc2-a39b-96dee26166d2",
   "metadata": {},
   "outputs": [],
   "source": []
  },
  {
   "cell_type": "code",
   "execution_count": null,
   "id": "54fa9387-4dbd-4e1a-8fa9-0381dc58052c",
   "metadata": {},
   "outputs": [],
   "source": []
  }
 ],
 "metadata": {
  "kernelspec": {
   "display_name": "anaconda-panel-2023.05-py310",
   "language": "python",
   "name": "conda-env-anaconda-panel-2023.05-py310-py"
  },
  "language_info": {
   "codemirror_mode": {
    "name": "ipython",
    "version": 3
   },
   "file_extension": ".py",
   "mimetype": "text/x-python",
   "name": "python",
   "nbconvert_exporter": "python",
   "pygments_lexer": "ipython3",
   "version": "3.11.5"
  }
 },
 "nbformat": 4,
 "nbformat_minor": 5
}
